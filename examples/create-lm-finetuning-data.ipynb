{
 "cells": [
  {
   "cell_type": "code",
   "execution_count": 58,
   "metadata": {},
   "outputs": [],
   "source": [
    "import pandas as pd\n",
    "from my_paths import xls_path"
   ]
  },
  {
   "cell_type": "code",
   "execution_count": 59,
   "metadata": {},
   "outputs": [],
   "source": [
    "df = pd.read_excel(xls_path)"
   ]
  },
  {
   "cell_type": "code",
   "execution_count": 60,
   "metadata": {
    "scrolled": true
   },
   "outputs": [
    {
     "name": "stdout",
     "output_type": "stream",
     "text": [
      "num classes before: 20\n",
      "num classes after:  14\n"
     ]
    }
   ],
   "source": [
    "df['STE'] = df['STE'].str.replace(\"\\t\",\" \")\n",
    "df['STE'] = df['STE'].str.strip() \n",
    "df['len'] = df['STE'].apply(lambda x: len(x.split()))\n",
    "df = df[df.len >= 10] # drop module texts with less than 10 total words\n",
    "\n",
    "# get categories with at least 10 counts\n",
    "counts = df.groupby('TEXT_TYPE').count()['TIMID']\n",
    "cols = counts[counts >= 10].index\n",
    "\n",
    "print('num classes before: {}\\nnum classes after:  {}'\n",
    "      .format(len(df.TEXT_TYPE.unique()), len(cols)))\n",
    "\n",
    "df = df[df.TEXT_TYPE.isin(cols)] # drop labels with too few samples\n",
    "assert(df.TEXT_TYPE.isna().sum() == 0) # make sure there are no NaN in target labels"
   ]
  },
  {
   "cell_type": "code",
   "execution_count": 61,
   "metadata": {},
   "outputs": [],
   "source": [
    "import spacy\n",
    "nlp = spacy.load('en_core_web_sm')"
   ]
  },
  {
   "cell_type": "code",
   "execution_count": 62,
   "metadata": {},
   "outputs": [],
   "source": [
    "modules = df.STE"
   ]
  },
  {
   "cell_type": "code",
   "execution_count": 110,
   "metadata": {
    "scrolled": true
   },
   "outputs": [],
   "source": [
    "with open('../../bert-folder/test_sents.txt', 'wt', encoding='utf-8') as f:\n",
    "    for text in modules:\n",
    "        text_sentences = nlp(text)\n",
    "        this_doc = list()\n",
    "        for sentence in text_sentences.sents:\n",
    "            this_sent = str(sentence).strip()\n",
    "            if len(this_sent) >= 6: # gets rid of bad sentence splits from special chars\n",
    "                this_sent += '\\n'\n",
    "                this_doc.append(this_sent)\n",
    "        if len(this_doc) >= 2: # only keep documents with at least 2 valid sentences\n",
    "            for line in this_doc:\n",
    "                f.write(line)\n",
    "            f.write('\\n')"
   ]
  },
  {
   "cell_type": "code",
   "execution_count": 111,
   "metadata": {},
   "outputs": [],
   "source": [
    "with open('../../bert-folder/test_sents.txt', 'rt', encoding='utf-8') as f:\n",
    "    lines = f.readlines()"
   ]
  },
  {
   "cell_type": "code",
   "execution_count": 112,
   "metadata": {
    "scrolled": true
   },
   "outputs": [
    {
     "data": {
      "text/plain": [
       "[' 10\\n', '.\\n', '.\\n']"
      ]
     },
     "execution_count": 112,
     "metadata": {},
     "output_type": "execute_result"
    }
   ],
   "source": [
    "# this should be empty but whatever, BERT will accept anything other than empty line \n",
    "[x for x in lines if len(x) <= 5 and x != '\\n']"
   ]
  }
 ],
 "metadata": {
  "kernelspec": {
   "display_name": "Python 3",
   "language": "python",
   "name": "python3"
  },
  "language_info": {
   "codemirror_mode": {
    "name": "ipython",
    "version": 3
   },
   "file_extension": ".py",
   "mimetype": "text/x-python",
   "name": "python",
   "nbconvert_exporter": "python",
   "pygments_lexer": "ipython3",
   "version": "3.7.1"
  }
 },
 "nbformat": 4,
 "nbformat_minor": 2
}
