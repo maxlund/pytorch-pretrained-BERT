{
 "cells": [
  {
   "cell_type": "code",
   "execution_count": 2,
   "metadata": {},
   "outputs": [],
   "source": [
    "import numpy as np\n",
    "import pandas as pd\n",
    "import csv\n",
    "from my_paths import *"
   ]
  },
  {
   "cell_type": "code",
   "execution_count": 2,
   "metadata": {},
   "outputs": [],
   "source": [
    "XLS_PATH = xls_path\n",
    "DATA_DIR = data_dir\n",
    "OUTPUT_DIR = output_dir\n",
    "PICKLE_DIR = pickle_dir"
   ]
  },
  {
   "cell_type": "code",
   "execution_count": 4,
   "metadata": {},
   "outputs": [
    {
     "data": {
      "text/plain": [
       "'D:/bert-folder/CV_output'"
      ]
     },
     "execution_count": 4,
     "metadata": {},
     "output_type": "execute_result"
    }
   ],
   "source": [
    "OUTPUT_DIR"
   ]
  },
  {
   "cell_type": "code",
   "execution_count": 5,
   "metadata": {},
   "outputs": [
    {
     "name": "stdout",
     "output_type": "stream",
     "text": [
      "num classes before: 20\n",
      "num classes after:  14\n"
     ]
    }
   ],
   "source": [
    "df = pd.read_excel(XLS_PATH)\n",
    "df['STE'] = df['STE'].str.replace(\"\\t\",\" \")\n",
    "df['STE'] = df['STE'].str.strip() \n",
    "df['len'] = df['STE'].apply(lambda x: len(x.split()))\n",
    "df = df[df.len >= 10]\n",
    "\n",
    "# get categories with at least 10 counts\n",
    "counts = df.groupby('TEXT_TYPE').count()['TIMID']\n",
    "cols = counts[counts >= 10].index\n",
    "\n",
    "print('num classes before: {}\\nnum classes after:  {}'\n",
    "      .format(len(df.TEXT_TYPE.unique()), len(cols)))\n",
    "\n",
    "df = df[df.TEXT_TYPE.isin(cols)] # drop labels with too few samples\n",
    "assert(df.TEXT_TYPE.isna().sum() == 0) # make sure there are no NaN in target labels"
   ]
  },
  {
   "cell_type": "code",
   "execution_count": 16,
   "metadata": {
    "scrolled": true
   },
   "outputs": [
    {
     "data": {
      "text/html": [
       "<div>\n",
       "<style scoped>\n",
       "    .dataframe tbody tr th:only-of-type {\n",
       "        vertical-align: middle;\n",
       "    }\n",
       "\n",
       "    .dataframe tbody tr th {\n",
       "        vertical-align: top;\n",
       "    }\n",
       "\n",
       "    .dataframe thead th {\n",
       "        text-align: right;\n",
       "    }\n",
       "</style>\n",
       "<table border=\"1\" class=\"dataframe\">\n",
       "  <thead>\n",
       "    <tr style=\"text-align: right;\">\n",
       "      <th></th>\n",
       "      <th>TIMID</th>\n",
       "      <th>TITLE</th>\n",
       "      <th>PRODUCT</th>\n",
       "      <th>PRODUCTGROUP</th>\n",
       "      <th>PRODUCTLINE</th>\n",
       "      <th>TEXT_TYPE</th>\n",
       "      <th>STATUS</th>\n",
       "      <th>M_COMMENT</th>\n",
       "      <th>FILEADR</th>\n",
       "      <th>STE</th>\n",
       "      <th>len</th>\n",
       "    </tr>\n",
       "  </thead>\n",
       "  <tbody>\n",
       "    <tr>\n",
       "      <th>2</th>\n",
       "      <td>6146</td>\n",
       "      <td>Product description_one model_battery</td>\n",
       "      <td>Battery/Cordless</td>\n",
       "      <td>Chainsaws</td>\n",
       "      <td>Handheld</td>\n",
       "      <td>Introduction</td>\n",
       "      <td>Released</td>\n",
       "      <td>NaN</td>\n",
       "      <td>DAT0056\\00069991.xml</td>\n",
       "      <td>Product description Work is constantly in prog...</td>\n",
       "      <td>23</td>\n",
       "    </tr>\n",
       "  </tbody>\n",
       "</table>\n",
       "</div>"
      ],
      "text/plain": [
       "   TIMID                                  TITLE           PRODUCT  \\\n",
       "2   6146  Product description_one model_battery  Battery/Cordless   \n",
       "\n",
       "  PRODUCTGROUP PRODUCTLINE     TEXT_TYPE    STATUS M_COMMENT  \\\n",
       "2    Chainsaws    Handheld  Introduction  Released       NaN   \n",
       "\n",
       "                FILEADR                                                STE  \\\n",
       "2  DAT0056\\00069991.xml  Product description Work is constantly in prog...   \n",
       "\n",
       "   len  \n",
       "2   23  "
      ]
     },
     "execution_count": 16,
     "metadata": {},
     "output_type": "execute_result"
    }
   ],
   "source": [
    "df[df.TIMID == 6146]"
   ]
  },
  {
   "cell_type": "markdown",
   "metadata": {},
   "source": [
    "### Using all classes (without running the code above to filter)"
   ]
  },
  {
   "cell_type": "code",
   "execution_count": 4,
   "metadata": {},
   "outputs": [],
   "source": [
    "X = np.array(df.STE)\n",
    "y = np.array(df.TEXT_TYPE)\n",
    "\n",
    "# shuffle data\n",
    "indices = np.arange(len(X))\n",
    "np.random.shuffle(indices)\n",
    "X = X[indices]\n",
    "y = y[indices]"
   ]
  },
  {
   "cell_type": "code",
   "execution_count": 5,
   "metadata": {
    "scrolled": true
   },
   "outputs": [
    {
     "data": {
      "text/plain": [
       "'D:/bert-folder/data'"
      ]
     },
     "execution_count": 5,
     "metadata": {},
     "output_type": "execute_result"
    }
   ],
   "source": [
    "DATA_DIR"
   ]
  },
  {
   "cell_type": "code",
   "execution_count": 6,
   "metadata": {},
   "outputs": [
    {
     "data": {
      "text/plain": [
       "'D:/bert-folder/CV_output'"
      ]
     },
     "execution_count": 6,
     "metadata": {},
     "output_type": "execute_result"
    }
   ],
   "source": [
    "OUTPUT_DIR"
   ]
  },
  {
   "cell_type": "code",
   "execution_count": 7,
   "metadata": {
    "scrolled": false
   },
   "outputs": [
    {
     "name": "stdout",
     "output_type": "stream",
     "text": [
      "b'Better speed can be achieved with apex installed from https://www.github.com/nvidia/apex.\\r\\n'\n",
      "FINISHED CV ITERATION: 1\n",
      "b'Better speed can be achieved with apex installed from https://www.github.com/nvidia/apex.\\r\\n'\n",
      "FINISHED CV ITERATION: 2\n",
      "b'Better speed can be achieved with apex installed from https://www.github.com/nvidia/apex.\\r\\n'\n",
      "FINISHED CV ITERATION: 3\n",
      "b'Better speed can be achieved with apex installed from https://www.github.com/nvidia/apex.\\r\\n'\n",
      "FINISHED CV ITERATION: 4\n"
     ]
    }
   ],
   "source": [
    "from sklearn.model_selection import KFold\n",
    "import subprocess\n",
    "\n",
    "kf = KFold(n_splits=4)\n",
    "i = 1\n",
    "\n",
    "for train_idx, test_idx in kf.split(X):\n",
    "    X_train, X_test = X[train_idx], X[test_idx]\n",
    "    y_train, y_test = y[train_idx], y[test_idx]\n",
    "    \n",
    "    with open(DATA_DIR+'/train.tsv', 'w', encoding='utf-8', newline='') as f:\n",
    "        writer = csv.writer(f, delimiter='\\t', quotechar='\\\"')\n",
    "        for lab, text in zip(y_train, X_train):\n",
    "            writer.writerow([lab, text])\n",
    "            \n",
    "    with open(DATA_DIR+'/dev.tsv', 'w', encoding='utf-8', newline='') as f:\n",
    "        writer = csv.writer(f, delimiter='\\t', quotechar='\\\"')\n",
    "        for lab, text in zip(y_test, X_test):\n",
    "            writer.writerow([lab, text])\n",
    "            \n",
    "    bash_cmd = f\"\"\"python run_classifier.py\n",
    "    --data_dir={DATA_DIR}\n",
    "    --bert_model=bert-base-uncased\n",
    "    --task_name=ste\n",
    "    --output_dir={OUTPUT_DIR}{i}\n",
    "    --gradient_accumulation_steps=16\n",
    "    --do_lower_case\n",
    "    --train_batch_size=32\n",
    "    --learning_rate=2e-5\n",
    "    --num_train_epochs=10\n",
    "    --max_seq_length=512\n",
    "    --do_train\n",
    "    --do_eval\"\"\"\n",
    "\n",
    "    process = subprocess.Popen(bash_cmd.split(), stdout=subprocess.PIPE)\n",
    "    output, error = process.communicate()\n",
    "    print(output)\n",
    "    print(f'FINISHED CV ITERATION: {i}')\n",
    "    i += 1"
   ]
  },
  {
   "cell_type": "code",
   "execution_count": 8,
   "metadata": {},
   "outputs": [],
   "source": [
    "lines = []\n",
    "for i in range(1,5):\n",
    "    with open(f'D:/bert-folder/CV_output-{i}/eval_results.txt', 'r') as f:\n",
    "        for line in f.readlines():\n",
    "            if 'eval_accuracy' in line:\n",
    "                lines.append(line)"
   ]
  },
  {
   "cell_type": "code",
   "execution_count": 9,
   "metadata": {},
   "outputs": [
    {
     "data": {
      "text/plain": [
       "0.8663982430453879"
      ]
     },
     "execution_count": 9,
     "metadata": {},
     "output_type": "execute_result"
    }
   ],
   "source": [
    "sum(float(x.replace('\\n', '').split()[-1]) for x in lines) / len(lines)"
   ]
  },
  {
   "cell_type": "code",
   "execution_count": 10,
   "metadata": {},
   "outputs": [
    {
     "data": {
      "text/plain": [
       "['eval_accuracy = 0.8755490483162518\\n',\n",
       " 'eval_accuracy = 0.8609077598828697\\n',\n",
       " 'eval_accuracy = 0.862371888726208\\n',\n",
       " 'eval_accuracy = 0.8667642752562226\\n']"
      ]
     },
     "execution_count": 10,
     "metadata": {},
     "output_type": "execute_result"
    }
   ],
   "source": [
    "lines"
   ]
  },
  {
   "cell_type": "code",
   "execution_count": 11,
   "metadata": {},
   "outputs": [],
   "source": [
    "accs = [float(x.replace('\\n', '').split()[-1]) for x in lines]"
   ]
  },
  {
   "cell_type": "code",
   "execution_count": 12,
   "metadata": {},
   "outputs": [
    {
     "data": {
      "text/plain": [
       "[0.8755490483162518, 0.8609077598828697, 0.862371888726208, 0.8667642752562226]"
      ]
     },
     "execution_count": 12,
     "metadata": {},
     "output_type": "execute_result"
    }
   ],
   "source": [
    "accs"
   ]
  },
  {
   "cell_type": "code",
   "execution_count": 13,
   "metadata": {},
   "outputs": [
    {
     "data": {
      "text/plain": [
       "0.8663982430453879"
      ]
     },
     "execution_count": 13,
     "metadata": {},
     "output_type": "execute_result"
    }
   ],
   "source": [
    "sum(accs) / len(accs)"
   ]
  },
  {
   "cell_type": "code",
   "execution_count": null,
   "metadata": {},
   "outputs": [],
   "source": [
    "# pickle CV-results for 512 seq length running 10 epochs\n",
    "import pickle\n",
    "pickle.dump(accs, open(PICKLE_DIR+'/BERT-cv-10-epochs-512-max-seq-len.p', 'wb'))"
   ]
  },
  {
   "cell_type": "code",
   "execution_count": null,
   "metadata": {},
   "outputs": [],
   "source": [
    "import pickle\n",
    "pickle.dump(accs, open(PICKLE_DIR+'/BERT-cv-50-epochs-128-max-seq-len.p', 'wb'))"
   ]
  },
  {
   "cell_type": "code",
   "execution_count": 6,
   "metadata": {
    "scrolled": true
   },
   "outputs": [
    {
     "data": {
      "text/plain": [
       "0.8923665201121848"
      ]
     },
     "execution_count": 6,
     "metadata": {},
     "output_type": "execute_result"
    }
   ],
   "source": [
    "import pickle\n",
    "accs = pickle.load(open('D:/thesis-etteplan/pickled-results/BERT-cv-12-epochs-128-max-seq-len.p', 'rb'))\n",
    "sum(accs) / len(accs)"
   ]
  },
  {
   "cell_type": "code",
   "execution_count": 7,
   "metadata": {},
   "outputs": [
    {
     "data": {
      "text/plain": [
       "0.88579686209744"
      ]
     },
     "execution_count": 7,
     "metadata": {},
     "output_type": "execute_result"
    }
   ],
   "source": [
    "accs = pickle.load(open('D:/thesis-etteplan/pickled-results/BERT-cv-20-epochs-192-max-seq-len.p', 'rb'))\n",
    "sum(accs) / len(accs)"
   ]
  },
  {
   "cell_type": "code",
   "execution_count": 8,
   "metadata": {},
   "outputs": [
    {
     "data": {
      "text/plain": [
       "0.8827274012245111"
      ]
     },
     "execution_count": 8,
     "metadata": {},
     "output_type": "execute_result"
    }
   ],
   "source": [
    "accs = pickle.load(open('D:/thesis-etteplan/pickled-results/BERT-cv-50-epochs-128-max-seq-len.p', 'rb'))\n",
    "sum(accs) / len(accs)"
   ]
  }
 ],
 "metadata": {
  "kernelspec": {
   "display_name": "Python 3",
   "language": "python",
   "name": "python3"
  },
  "language_info": {
   "codemirror_mode": {
    "name": "ipython",
    "version": 3
   },
   "file_extension": ".py",
   "mimetype": "text/x-python",
   "name": "python",
   "nbconvert_exporter": "python",
   "pygments_lexer": "ipython3",
   "version": "3.6.8"
  }
 },
 "nbformat": 4,
 "nbformat_minor": 2
}
